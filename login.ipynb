{
 "cells": [
  {
   "cell_type": "code",
   "execution_count": 2,
   "metadata": {},
   "outputs": [
    {
     "name": "stdout",
     "output_type": "stream",
     "text": [
      "Defaulting to user installation because normal site-packages is not writeable\n",
      "Requirement already satisfied: pyautogui in c:\\users\\toohey-1\\appdata\\roaming\\python\\python39\\site-packages (0.9.53)\n",
      "Requirement already satisfied: mouseinfo in c:\\users\\toohey-1\\appdata\\roaming\\python\\python39\\site-packages (from pyautogui) (0.1.3)\n",
      "Requirement already satisfied: pyscreeze>=0.1.21 in c:\\users\\toohey-1\\appdata\\roaming\\python\\python39\\site-packages (from pyautogui) (0.1.27)\n",
      "Requirement already satisfied: pymsgbox in c:\\users\\toohey-1\\appdata\\roaming\\python\\python39\\site-packages (from pyautogui) (1.0.9)\n",
      "Requirement already satisfied: pygetwindow>=0.0.5 in c:\\users\\toohey-1\\appdata\\roaming\\python\\python39\\site-packages (from pyautogui) (0.0.9)\n",
      "Requirement already satisfied: PyTweening>=1.0.1 in c:\\users\\toohey-1\\appdata\\roaming\\python\\python39\\site-packages (from pyautogui) (1.0.4)\n",
      "Requirement already satisfied: pyrect in c:\\users\\toohey-1\\appdata\\roaming\\python\\python39\\site-packages (from pygetwindow>=0.0.5->pyautogui) (0.1.3)\n",
      "Requirement already satisfied: pyperclip in c:\\users\\toohey-1\\appdata\\roaming\\python\\python39\\site-packages (from mouseinfo->pyautogui) (1.8.2)\n",
      "Defaulting to user installation because normal site-packages is not writeable\n",
      "Requirement already satisfied: pygetwindow in c:\\users\\toohey-1\\appdata\\roaming\\python\\python39\\site-packages (0.0.9)\n",
      "Requirement already satisfied: pyrect in c:\\users\\toohey-1\\appdata\\roaming\\python\\python39\\site-packages (from pygetwindow) (0.1.3)\n"
     ]
    }
   ],
   "source": [
    "!py -3.9 -m pip install pyautogui\n",
    "!py -3.9 -m pip install pygetwindow"
   ]
  },
  {
   "cell_type": "code",
   "execution_count": 5,
   "metadata": {},
   "outputs": [],
   "source": [
    "import time\n",
    "import pyautogui as gui\n",
    "\n",
    "class point:\n",
    "    def __init__(self, x, y):\n",
    "        self.x = x\n",
    "        self.y = y\n",
    "\n",
    "def moveClick(target):\n",
    "    gui.moveTo(target.x, target.y, 1, tween=gui.easeInOutQuad)\n",
    "    gui.moveTo(target.x + 1, target.y + 1, 1)\n",
    "    time.sleep(0.1)\n",
    "    gui.mouseDown()\n",
    "    time.sleep(0.1)\n",
    "    gui.mouseUp()\n",
    "    time.sleep(1)"
   ]
  },
  {
   "cell_type": "code",
   "execution_count": 6,
   "metadata": {},
   "outputs": [],
   "source": [
    "import time\n",
    "\n",
    "bottom = 725\n",
    "left = 108\n",
    "top = 41\n",
    "product = point(left, top)\n",
    "home = point(141, bottom)\n",
    "login = point(865, top)\n",
    "menu = point(225, bottom)\n",
    "start = point(52, bottom)\n",
    "messages = point(512, bottom)\n",
    "login_password = point(622, 323)\n",
    "key_3 = point(244, 347)\n",
    "key_ok = point(927, 466)\n",
    "login_ok = point(389, 424)\n",
    "capture = point(807,864)\n",
    "hmi = point(760, 0)\n",
    "\n"
   ]
  },
  {
   "cell_type": "code",
   "execution_count": 7,
   "metadata": {},
   "outputs": [],
   "source": [
    "def MoveHome():\n",
    "    gui.moveTo(home.x, home.y, 1)\n",
    "\n",
    "def Home():\n",
    "    moveClick(home)\n",
    "\n",
    "def Login():\n",
    "    moveClick(login)\n",
    "\n",
    "def Login_Password():\n",
    "    moveClick(login_password)\n",
    "\n",
    "def Keyboard_3():\n",
    "    moveClick(key_3)\n",
    "\n",
    "def Keyboard_OK():\n",
    "    moveClick(key_ok)\n",
    "\n",
    "def Login_OK():\n",
    "    moveClick(login_ok)\n",
    "\n",
    "def Menu():\n",
    "    moveClick(menu)\n",
    "\n",
    "def RecordStart():\n",
    "    moveClick(capture)\n",
    "    time.sleep(2.5)\n",
    "    moveClick(hmi)\n",
    "    Home()\n",
    "    gui.keyDown('shift')\n",
    "    gui.press('f9')\n",
    "    gui.keyUp('shift')\n",
    "    time.sleep(5)\n",
    "\n",
    "def RecordStop():\n",
    "    Home()\n",
    "    time.sleep(2)\n",
    "    gui.keyDown('shift')\n",
    "    gui.press('f9')\n",
    "    gui.keyUp('shift')"
   ]
  },
  {
   "cell_type": "code",
   "execution_count": null,
   "metadata": {},
   "outputs": [],
   "source": [
    "gui.mouseInfo()"
   ]
  },
  {
   "cell_type": "code",
   "execution_count": 8,
   "metadata": {},
   "outputs": [],
   "source": [
    "def LoginSupervisor():\n",
    "    Login()\n",
    "    Login_Password()\n",
    "    Keyboard_3()\n",
    "    Keyboard_OK()\n",
    "    Login_OK()\n"
   ]
  },
  {
   "cell_type": "code",
   "execution_count": 9,
   "metadata": {},
   "outputs": [],
   "source": [
    "def Record(navigation):\n",
    "    RecordStart()\n",
    "    navigation()\n",
    "    RecordStop()"
   ]
  },
  {
   "cell_type": "code",
   "execution_count": 10,
   "metadata": {},
   "outputs": [],
   "source": [
    "# Record Login Supervisor\n",
    "RecordStart()\n",
    "LoginSupervisor()\n",
    "RecordStop()"
   ]
  },
  {
   "cell_type": "code",
   "execution_count": 11,
   "metadata": {},
   "outputs": [],
   "source": [
    "Record(LoginSupervisor)"
   ]
  },
  {
   "cell_type": "code",
   "execution_count": 4,
   "metadata": {},
   "outputs": [],
   "source": [
    "def EnableStartStop():\n",
    "    time.sleep(0)"
   ]
  }
 ],
 "metadata": {
  "interpreter": {
   "hash": "6f7c4d44365b28014734406e4d617c1e1f76ea196def854c7b951a230f6e24f1"
  },
  "kernelspec": {
   "display_name": "Python 3.9.5 64-bit",
   "language": "python",
   "name": "python3"
  },
  "language_info": {
   "codemirror_mode": {
    "name": "ipython",
    "version": 3
   },
   "file_extension": ".py",
   "mimetype": "text/x-python",
   "name": "python",
   "nbconvert_exporter": "python",
   "pygments_lexer": "ipython3",
   "version": "3.9.5"
  },
  "orig_nbformat": 4
 },
 "nbformat": 4,
 "nbformat_minor": 2
}
